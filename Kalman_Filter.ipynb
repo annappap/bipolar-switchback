{
 "cells": [
  {
   "cell_type": "code",
   "execution_count": 1,
   "id": "0dea5df4",
   "metadata": {},
   "outputs": [],
   "source": [
    "import pandas as pd\n",
    "import matplotlib.pyplot as plt\n",
    "import numpy as np\n",
    "import seaborn as sns\n",
    "from pykalman import KalmanFilter"
   ]
  },
  {
   "cell_type": "code",
   "execution_count": 2,
   "id": "f369f6ea",
   "metadata": {},
   "outputs": [],
   "source": [
    "file_path = '/Users/annapham/Downloads/FilteredDailyMood.xlsx'"
   ]
  },
  {
   "cell_type": "code",
   "execution_count": 3,
   "id": "3eb2204d",
   "metadata": {},
   "outputs": [],
   "source": [
    "df = pd.read_excel(file_path)"
   ]
  },
  {
   "cell_type": "code",
   "execution_count": 4,
   "id": "54c33d6b",
   "metadata": {},
   "outputs": [],
   "source": [
    "# Filter the df for user_name 'bawtpe'\n",
    "patient_df = df[df['user_name'] == 'bawtpe']"
   ]
  },
  {
   "cell_type": "code",
   "execution_count": 5,
   "id": "765e4c6b",
   "metadata": {},
   "outputs": [],
   "source": [
    "rating_cols = [\n",
    "    \"depressedMood\",\n",
    "    \"fatigue\",\n",
    "    \"fidgeting\",\n",
    "    \"increasedEnergy\",\n",
    "    \"rapidSpeech\",\n",
    "    \"irritability\"\n",
    "]\n",
    "\n",
    "patient_data = patient_df[rating_cols]"
   ]
  },
  {
   "cell_type": "code",
   "execution_count": 6,
   "id": "1b349b2a",
   "metadata": {},
   "outputs": [
    {
     "name": "stdout",
     "output_type": "stream",
     "text": [
      "Shape of array M: (42, 6)\n"
     ]
    }
   ],
   "source": [
    "# Convert the patient_data DataFrame to a NumPy array\n",
    "M = patient_data.to_numpy()\n",
    "print(\"Shape of array M:\", M.shape)"
   ]
  },
  {
   "cell_type": "code",
   "execution_count": 7,
   "id": "e2d532e2",
   "metadata": {},
   "outputs": [],
   "source": [
    "# Convert NaNs to masked values\n",
    "M_masked = np.ma.masked_invalid(M) \n",
    "\n",
    "T, obs_dim = M.shape\n",
    "latent_dim = 2"
   ]
  },
  {
   "cell_type": "code",
   "execution_count": 8,
   "id": "e3466c88",
   "metadata": {},
   "outputs": [],
   "source": [
    "# Initial model parameters \n",
    "latent_dim = 2\n",
    "obs_dim = 6\n",
    "\n",
    "F0 = np.array([[0.5, 0.0],   # B\n",
    "               [0.0, 0.5]])\n",
    "\n",
    "H0 = np.array([[1.0, 0.0],   # A\n",
    "               [1.0, 0.0],\n",
    "               [1.0, 0.0],\n",
    "               [0.0, 1.0],\n",
    "               [0.0, 1.0],\n",
    "               [0.5, 0.5]])\n",
    "\n",
    "Q0 = 0.01 * np.eye(latent_dim)  # Gamma\n",
    "R0 = 0.1  * np.eye(obs_dim)     # Sigma\n",
    "x0 = np.zeros(latent_dim)\n",
    "P0 = np.eye(latent_dim)"
   ]
  },
  {
   "cell_type": "code",
   "execution_count": 9,
   "id": "e43bf3f8",
   "metadata": {},
   "outputs": [],
   "source": [
    "# Kalman Filter setup\n",
    "kf = KalmanFilter(\n",
    "    transition_matrices=F0,\n",
    "    observation_matrices=H0,\n",
    "    transition_covariance=Q0,\n",
    "    observation_covariance=R0,\n",
    "    initial_state_mean=x0,\n",
    "    initial_state_covariance=P0,\n",
    "    em_vars=[\n",
    "        'transition_matrices',\n",
    "        'observation_matrices',\n",
    "        'transition_covariance',\n",
    "        'observation_covariance'\n",
    "    ]\n",
    ")"
   ]
  },
  {
   "cell_type": "code",
   "execution_count": 10,
   "id": "8e0bdcad",
   "metadata": {},
   "outputs": [
    {
     "name": "stdout",
     "output_type": "stream",
     "text": [
      "Did not converge within given iterations.\n"
     ]
    }
   ],
   "source": [
    "# EM loop \n",
    "max_iter = 100\n",
    "tol = 1e-3\n",
    "loglikelihoods = []\n",
    "prev_ll = -np.inf\n",
    "\n",
    "for i in range(max_iter):\n",
    "    kf = kf.em(M_masked, n_iter=1)\n",
    "    ll = kf.loglikelihood(M_masked)\n",
    "    loglikelihoods.append(ll)\n",
    "\n",
    "    if abs(ll - prev_ll) < tol:\n",
    "        print(f\"Converged at iteration {i+1})\")\n",
    "        break\n",
    "    prev_ll = ll\n",
    "else:\n",
    "    print(\"Did not converge within given iterations.\")\n"
   ]
  },
  {
   "cell_type": "code",
   "execution_count": 11,
   "id": "ad672d14",
   "metadata": {},
   "outputs": [],
   "source": [
    "# Estimation\n",
    "U_filt, _ = kf.filter(M_masked)\n",
    "U_smooth, _ = kf.smooth(M_masked)"
   ]
  },
  {
   "cell_type": "code",
   "execution_count": 12,
   "id": "abcbe066",
   "metadata": {},
   "outputs": [
    {
     "data": {
      "image/png": "[encoded data removed]",
      "text/plain": [
       "<Figure size 600x400 with 1 Axes>"
      ]
     },
     "metadata": {},
     "output_type": "display_data"
    }
   ],
   "source": [
    "# Plot log-likelihood \n",
    "plt.figure(figsize=(6, 4))\n",
    "plt.plot(loglikelihoods, marker='o')\n",
    "plt.title(\"EM Log-Likelihood Over Iterations\")\n",
    "plt.xlabel(\"Iteration\")\n",
    "plt.ylabel(\"Log-Likelihood\")\n",
    "plt.grid(True)\n",
    "plt.tight_layout()\n",
    "plt.show()"
   ]
  },
  {
   "cell_type": "code",
   "execution_count": 13,
   "id": "8715208c",
   "metadata": {},
   "outputs": [
    {
     "name": "stdout",
     "output_type": "stream",
     "text": [
      "\n",
      "=== Learned Parameters ===\n",
      "A:\n",
      " [[ 1.32 -0.67]\n",
      " [ 0.67  0.53]\n",
      " [ 0.    0.47]\n",
      " [ 0.21  1.38]\n",
      " [-0.4   1.64]\n",
      " [ 0.8  -0.31]]\n",
      "B:\n",
      " [[0.86 0.21]\n",
      " [0.19 0.64]]\n",
      "Sigma:\n",
      " [[ 0.28  0.12  0.04 -0.06 -0.02 -0.  ]\n",
      " [ 0.12  0.39  0.02 -0.15 -0.18  0.07]\n",
      " [ 0.04  0.02  0.21  0.02  0.04  0.13]\n",
      " [-0.06 -0.15  0.02  0.32  0.1   0.08]\n",
      " [-0.02 -0.18  0.04  0.1   0.23  0.1 ]\n",
      " [-0.    0.07  0.13  0.08  0.1   0.26]]\n",
      "Gamma:\n",
      " [[ 0.01 -0.02]\n",
      " [-0.02  0.05]]\n"
     ]
    }
   ],
   "source": [
    "# Print learned parameters (rounded)\n",
    "print(\"\\n=== Learned Parameters ===\")\n",
    "\n",
    "print(\"A:\\n\", np.round(kf.observation_matrices, 2))\n",
    "print(\"B:\\n\", np.round(kf.transition_matrices, 2))\n",
    "print(\"Sigma:\\n\", np.round(kf.observation_covariance, 2))\n",
    "print(\"Gamma:\\n\", np.round(kf.transition_covariance, 2))"
   ]
  }
 ],
 "metadata": {
  "kernelspec": {
   "display_name": "base",
   "language": "python",
   "name": "python3"
  },
  "language_info": {
   "codemirror_mode": {
    "name": "ipython",
    "version": 3
   },
   "file_extension": ".py",
   "mimetype": "text/x-python",
   "name": "python",
   "nbconvert_exporter": "python",
   "pygments_lexer": "ipython3",
   "version": "3.12.4"
  }
 },
 "nbformat": 4,
 "nbformat_minor": 5
}
